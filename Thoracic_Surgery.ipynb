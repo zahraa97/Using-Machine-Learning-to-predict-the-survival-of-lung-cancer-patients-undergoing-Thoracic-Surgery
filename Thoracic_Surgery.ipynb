{
 "cells": [
  {
   "cell_type": "markdown",
   "metadata": {},
   "source": [
    "# Thoracic Surgery Data"
   ]
  },
  {
   "cell_type": "markdown",
   "metadata": {},
   "source": [
    "## Content"
   ]
  },
  {
   "cell_type": "markdown",
   "metadata": {},
   "source": [
    " The data taken was used to determine the life expectancy in lung cancer patients: death within one year after surgery or survival.\n",
    " \n",
    "Cardiothoracic surgery (also known as thoracic surgery) is the field of medicine involved in surgical treatment of organs inside the thorax (the chest)—generally treatment of conditions of the heart (heart disease) and lungs (lung disease).\n",
    "\n",
    "The diagnosis was based on the tumor(s) present in the patient. \n",
    "\n",
    "The link to the dataset is: https://archive.ics.uci.edu/ml/datasets/Thoracic+Surgery+Data#"
   ]
  },
  {
   "cell_type": "markdown",
   "metadata": {},
   "source": [
    "## Attributes"
   ]
  },
  {
   "cell_type": "markdown",
   "metadata": {},
   "source": [
    "Number of Attributes: 17\n",
    "\n",
    "1. DGN: Diagnosis - specific combination of ICD-10 codes(codes given to specific tumors) for primary and secondary as well multiple tumours if any (DGN3,DGN2,DGN4,DGN6,DGN5,DGN8,DGN1) \n",
    "\n",
    "2. PRE4: Forced vital capacity - FVC defined as the amount of air that can be forcibly exhaled from the lungs after taking the deepest breath possible; used assess one's ability to tolerate surgery (numeric) \n",
    "\n",
    "3. PRE5: Volume that has been exhaled at the end of the first second of forced expiration(pulmonary function test) - FEV1 (numeric) \n",
    "\n",
    "4. PRE6: Performance status - Zubrod scale(or ECOG (Eastern Cooperative Oncology Group) scale. This scale ranges from 0 to 4, with 0 being fully functional and 4 being bedridden.) (PRZ2,PRZ1,PRZ0) \n",
    "\n",
    "5. PRE7: Pain before surgery (T,F) \n",
    "\n",
    "6. PRE8: Haemoptysis(coughing up blood) before surgery (T,F) \n",
    "\n",
    "7. PRE9: Dyspnoea(difficult or labored breathing) before surgery (T,F) \n",
    "\n",
    "8. PRE10: Cough before surgery (T,F) \n",
    "\n",
    "9. PRE11: Weakness before surgery (T,F) \n",
    "\n",
    "10. PRE14: T in clinical TNM - size of the original tumour, from OC11 (smallest) to OC14 (largest) (OC11,OC14,OC12,OC13) \n",
    "\n",
    "11. PRE17: Type 2 DM - diabetes mellitus (T,F) \n",
    "\n",
    "12. PRE19: MI (abbreviation for myocardial infarction, otherwise known as a heart attack.) up to 6 months (T,F) \n",
    "\n",
    "13. PRE25: PAD - peripheral arterial diseases ( circulatory problem in which narrowed arteries reduce blood flow to your limbs) (T,F) \n",
    "\n",
    "14. PRE30: Smoking (T,F)\n",
    "\n",
    "15. PRE32: Asthma (T,F) \n",
    "\n",
    "16. AGE: Age at surgery (numeric)\n",
    "\n",
    "17. Alive: 1 year survival period - (T)rue value if died (T,F) "
   ]
  },
  {
   "cell_type": "code",
   "execution_count": 1,
   "metadata": {},
   "outputs": [
    {
     "name": "stdout",
     "output_type": "stream",
     "text": [
      "Python version is 3.7.6 (default, Jan  8 2020, 19:59:22) \n",
      "[GCC 7.3.0]\n",
      "Matplotlib version is 3.1.3\n",
      "Scikit-Learn version is 0.22.1\n",
      "Numpy version is 1.18.1\n",
      "Pandas version is 1.0.1\n"
     ]
    }
   ],
   "source": [
    "%matplotlib inline\n",
    "\n",
    "import matplotlib.pyplot as plt\n",
    "import matplotlib\n",
    "import sklearn\n",
    "import numpy as np\n",
    "import pandas as pd\n",
    "from sklearn.model_selection import train_test_split\n",
    "from sklearn.preprocessing import StandardScaler\n",
    "#from sklearn.ensemble import ExtraTreesClassifier\n",
    "import sys\n",
    "\n",
    "print(\"Python version is \"+sys.version)\n",
    "print(\"Matplotlib version is \"+matplotlib.__version__)\n",
    "print(\"Scikit-Learn version is \"+sklearn.__version__)\n",
    "print(\"Numpy version is \"+np.__version__)\n",
    "print(\"Pandas version is \"+pd.__version__)"
   ]
  },
  {
   "cell_type": "code",
   "execution_count": 2,
   "metadata": {},
   "outputs": [],
   "source": [
    "from sklearn.datasets import fetch_openml\n",
    "from sklearn.neural_network import MLPClassifier\n",
    "from sklearn.linear_model import LogisticRegression\n",
    "from sklearn.tree import DecisionTreeClassifier\n",
    "#from sklearn.ensemble import RandomForestClassifier\n",
    "#from sklearn.datasets import make_classification\n",
    "from sklearn.svm import SVC\n",
    "from sklearn.naive_bayes import GaussianNB\n",
    "from sklearn.feature_selection import RFE\n",
    "#from sklearn.linear_model import LogisticRegression\n",
    "from sklearn.ensemble import AdaBoostClassifier, RandomForestClassifier, GradientBoostingClassifier"
   ]
  },
  {
   "cell_type": "markdown",
   "metadata": {},
   "source": [
    "## Fetching the Data"
   ]
  },
  {
   "cell_type": "code",
   "execution_count": 3,
   "metadata": {},
   "outputs": [
    {
     "name": "stdout",
     "output_type": "stream",
     "text": [
      "<class 'pandas.core.frame.DataFrame'>\n",
      "RangeIndex: 470 entries, 0 to 469\n",
      "Data columns (total 17 columns):\n",
      " #   Column                   Non-Null Count  Dtype  \n",
      "---  ------                   --------------  -----  \n",
      " 0   Diagnosis                470 non-null    object \n",
      " 1   FVC                      470 non-null    float64\n",
      " 2   FEV1                     470 non-null    float64\n",
      " 3   Zubrod_Scale             470 non-null    object \n",
      " 4   Pain_before_Surgery      470 non-null    object \n",
      " 5   Haemoptysis              470 non-null    object \n",
      " 6   Dyspnoea                 470 non-null    object \n",
      " 7   Cough_before_surgery     470 non-null    object \n",
      " 8   Weakness_before_surgery  470 non-null    object \n",
      " 9   TM_Size                  470 non-null    object \n",
      " 10  Type2_DM                 470 non-null    object \n",
      " 11  MI                       470 non-null    object \n",
      " 12  PAD                      470 non-null    object \n",
      " 13  Smoking                  470 non-null    object \n",
      " 14  Asthma                   470 non-null    object \n",
      " 15  Age                      470 non-null    int64  \n",
      " 16  Alive                    470 non-null    object \n",
      "dtypes: float64(2), int64(1), object(14)\n",
      "memory usage: 62.5+ KB\n",
      "None\n",
      "  Diagnosis   FVC  FEV1 Zubrod_Scale Pain_before_Surgery Haemoptysis Dyspnoea  \\\n",
      "0      DGN2  2.88  2.16         PRZ1                   F           F        F   \n",
      "1      DGN3  3.40  1.88         PRZ0                   F           F        F   \n",
      "2      DGN3  2.76  2.08         PRZ1                   F           F        F   \n",
      "3      DGN3  3.68  3.04         PRZ0                   F           F        F   \n",
      "4      DGN3  2.44  0.96         PRZ2                   F           T        F   \n",
      "\n",
      "  Cough_before_surgery Weakness_before_surgery TM_Size Type2_DM MI PAD  \\\n",
      "0                    T                       T    OC14        F  F   F   \n",
      "1                    F                       F    OC12        F  F   F   \n",
      "2                    T                       F    OC11        F  F   F   \n",
      "3                    F                       F    OC11        F  F   F   \n",
      "4                    T                       T    OC11        F  F   F   \n",
      "\n",
      "  Smoking Asthma  Age Alive  \n",
      "0       T      F   60     F  \n",
      "1       T      F   51     F  \n",
      "2       T      F   59     F  \n",
      "3       F      F   54     F  \n",
      "4       T      F   73     T  \n"
     ]
    }
   ],
   "source": [
    "df = pd.read_csv('thoracic_surgery.csv')\n",
    "print(df.info())\n",
    "print(df.head(5))"
   ]
  },
  {
   "cell_type": "markdown",
   "metadata": {},
   "source": [
    "## Clean and PreProcess Data"
   ]
  },
  {
   "cell_type": "code",
   "execution_count": 4,
   "metadata": {},
   "outputs": [
    {
     "name": "stdout",
     "output_type": "stream",
     "text": [
      "  Diagnosis   FVC  FEV1 Zubrod_Scale Pain_before_Surgery Haemoptysis Dyspnoea  \\\n",
      "0      DGN2  2.88  2.16         PRZ1                   F           F        F   \n",
      "1      DGN3  3.40  1.88         PRZ0                   F           F        F   \n",
      "2      DGN3  2.76  2.08         PRZ1                   F           F        F   \n",
      "3      DGN3  3.68  3.04         PRZ0                   F           F        F   \n",
      "4      DGN3  2.44  0.96         PRZ2                   F           T        F   \n",
      "\n",
      "  Cough_before_surgery Weakness_before_surgery TM_Size Type2_DM MI PAD  \\\n",
      "0                    T                       T    OC14        F  F   F   \n",
      "1                    F                       F    OC12        F  F   F   \n",
      "2                    T                       F    OC11        F  F   F   \n",
      "3                    F                       F    OC11        F  F   F   \n",
      "4                    T                       T    OC11        F  F   F   \n",
      "\n",
      "  Smoking Asthma  Age Alive  \n",
      "0       T      F   60     F  \n",
      "1       T      F   51     F  \n",
      "2       T      F   59     F  \n",
      "3       F      F   54     F  \n",
      "4       T      F   73     T  \n"
     ]
    }
   ],
   "source": [
    "df = df.dropna()\n",
    "print(df.head(5))"
   ]
  },
  {
   "cell_type": "code",
   "execution_count": 5,
   "metadata": {},
   "outputs": [
    {
     "name": "stdout",
     "output_type": "stream",
     "text": [
      "Index(['F', 'T'], dtype='object')\n",
      "Index(['DGN1', 'DGN2', 'DGN3', 'DGN4', 'DGN5', 'DGN6', 'DGN8'], dtype='object')\n",
      "Index(['PRZ0', 'PRZ1', 'PRZ2'], dtype='object')\n",
      "Index(['F', 'T'], dtype='object')\n",
      "Index(['F', 'T'], dtype='object')\n",
      "Index(['F', 'T'], dtype='object')\n",
      "Index(['F', 'T'], dtype='object')\n",
      "Index(['F', 'T'], dtype='object')\n",
      "Index(['OC11', 'OC12', 'OC13', 'OC14'], dtype='object')\n",
      "Index(['F', 'T'], dtype='object')\n",
      "Index(['F', 'T'], dtype='object')\n",
      "Index(['F', 'T'], dtype='object')\n",
      "Index(['F', 'T'], dtype='object')\n",
      "Index(['F', 'T'], dtype='object')\n"
     ]
    },
    {
     "data": {
      "text/html": [
       "<div>\n",
       "<style scoped>\n",
       "    .dataframe tbody tr th:only-of-type {\n",
       "        vertical-align: middle;\n",
       "    }\n",
       "\n",
       "    .dataframe tbody tr th {\n",
       "        vertical-align: top;\n",
       "    }\n",
       "\n",
       "    .dataframe thead th {\n",
       "        text-align: right;\n",
       "    }\n",
       "</style>\n",
       "<table border=\"1\" class=\"dataframe\">\n",
       "  <thead>\n",
       "    <tr style=\"text-align: right;\">\n",
       "      <th></th>\n",
       "      <th>Diagnosis</th>\n",
       "      <th>FVC</th>\n",
       "      <th>FEV1</th>\n",
       "      <th>Zubrod_Scale</th>\n",
       "      <th>Pain_before_Surgery</th>\n",
       "      <th>Haemoptysis</th>\n",
       "      <th>Dyspnoea</th>\n",
       "      <th>Cough_before_surgery</th>\n",
       "      <th>Weakness_before_surgery</th>\n",
       "      <th>TM_Size</th>\n",
       "      <th>Type2_DM</th>\n",
       "      <th>MI</th>\n",
       "      <th>PAD</th>\n",
       "      <th>Smoking</th>\n",
       "      <th>Asthma</th>\n",
       "      <th>Age</th>\n",
       "      <th>Alive</th>\n",
       "    </tr>\n",
       "  </thead>\n",
       "  <tbody>\n",
       "    <tr>\n",
       "      <th>0</th>\n",
       "      <td>DGN2</td>\n",
       "      <td>2.88</td>\n",
       "      <td>2.16</td>\n",
       "      <td>PRZ1</td>\n",
       "      <td>0</td>\n",
       "      <td>0</td>\n",
       "      <td>0</td>\n",
       "      <td>1</td>\n",
       "      <td>1</td>\n",
       "      <td>OC14</td>\n",
       "      <td>0</td>\n",
       "      <td>0</td>\n",
       "      <td>0</td>\n",
       "      <td>1</td>\n",
       "      <td>0</td>\n",
       "      <td>60</td>\n",
       "      <td>0</td>\n",
       "    </tr>\n",
       "    <tr>\n",
       "      <th>1</th>\n",
       "      <td>DGN3</td>\n",
       "      <td>3.40</td>\n",
       "      <td>1.88</td>\n",
       "      <td>PRZ0</td>\n",
       "      <td>0</td>\n",
       "      <td>0</td>\n",
       "      <td>0</td>\n",
       "      <td>0</td>\n",
       "      <td>0</td>\n",
       "      <td>OC12</td>\n",
       "      <td>0</td>\n",
       "      <td>0</td>\n",
       "      <td>0</td>\n",
       "      <td>1</td>\n",
       "      <td>0</td>\n",
       "      <td>51</td>\n",
       "      <td>0</td>\n",
       "    </tr>\n",
       "    <tr>\n",
       "      <th>2</th>\n",
       "      <td>DGN3</td>\n",
       "      <td>2.76</td>\n",
       "      <td>2.08</td>\n",
       "      <td>PRZ1</td>\n",
       "      <td>0</td>\n",
       "      <td>0</td>\n",
       "      <td>0</td>\n",
       "      <td>1</td>\n",
       "      <td>0</td>\n",
       "      <td>OC11</td>\n",
       "      <td>0</td>\n",
       "      <td>0</td>\n",
       "      <td>0</td>\n",
       "      <td>1</td>\n",
       "      <td>0</td>\n",
       "      <td>59</td>\n",
       "      <td>0</td>\n",
       "    </tr>\n",
       "    <tr>\n",
       "      <th>3</th>\n",
       "      <td>DGN3</td>\n",
       "      <td>3.68</td>\n",
       "      <td>3.04</td>\n",
       "      <td>PRZ0</td>\n",
       "      <td>0</td>\n",
       "      <td>0</td>\n",
       "      <td>0</td>\n",
       "      <td>0</td>\n",
       "      <td>0</td>\n",
       "      <td>OC11</td>\n",
       "      <td>0</td>\n",
       "      <td>0</td>\n",
       "      <td>0</td>\n",
       "      <td>0</td>\n",
       "      <td>0</td>\n",
       "      <td>54</td>\n",
       "      <td>0</td>\n",
       "    </tr>\n",
       "    <tr>\n",
       "      <th>4</th>\n",
       "      <td>DGN3</td>\n",
       "      <td>2.44</td>\n",
       "      <td>0.96</td>\n",
       "      <td>PRZ2</td>\n",
       "      <td>0</td>\n",
       "      <td>1</td>\n",
       "      <td>0</td>\n",
       "      <td>1</td>\n",
       "      <td>1</td>\n",
       "      <td>OC11</td>\n",
       "      <td>0</td>\n",
       "      <td>0</td>\n",
       "      <td>0</td>\n",
       "      <td>1</td>\n",
       "      <td>0</td>\n",
       "      <td>73</td>\n",
       "      <td>1</td>\n",
       "    </tr>\n",
       "    <tr>\n",
       "      <th>5</th>\n",
       "      <td>DGN3</td>\n",
       "      <td>2.48</td>\n",
       "      <td>1.88</td>\n",
       "      <td>PRZ1</td>\n",
       "      <td>0</td>\n",
       "      <td>0</td>\n",
       "      <td>0</td>\n",
       "      <td>1</td>\n",
       "      <td>0</td>\n",
       "      <td>OC11</td>\n",
       "      <td>0</td>\n",
       "      <td>0</td>\n",
       "      <td>0</td>\n",
       "      <td>0</td>\n",
       "      <td>0</td>\n",
       "      <td>51</td>\n",
       "      <td>0</td>\n",
       "    </tr>\n",
       "    <tr>\n",
       "      <th>6</th>\n",
       "      <td>DGN3</td>\n",
       "      <td>4.36</td>\n",
       "      <td>3.28</td>\n",
       "      <td>PRZ1</td>\n",
       "      <td>0</td>\n",
       "      <td>0</td>\n",
       "      <td>0</td>\n",
       "      <td>1</td>\n",
       "      <td>0</td>\n",
       "      <td>OC12</td>\n",
       "      <td>1</td>\n",
       "      <td>0</td>\n",
       "      <td>0</td>\n",
       "      <td>1</td>\n",
       "      <td>0</td>\n",
       "      <td>59</td>\n",
       "      <td>1</td>\n",
       "    </tr>\n",
       "    <tr>\n",
       "      <th>7</th>\n",
       "      <td>DGN2</td>\n",
       "      <td>3.19</td>\n",
       "      <td>2.50</td>\n",
       "      <td>PRZ1</td>\n",
       "      <td>0</td>\n",
       "      <td>0</td>\n",
       "      <td>0</td>\n",
       "      <td>1</td>\n",
       "      <td>0</td>\n",
       "      <td>OC11</td>\n",
       "      <td>0</td>\n",
       "      <td>0</td>\n",
       "      <td>1</td>\n",
       "      <td>1</td>\n",
       "      <td>0</td>\n",
       "      <td>66</td>\n",
       "      <td>1</td>\n",
       "    </tr>\n",
       "    <tr>\n",
       "      <th>8</th>\n",
       "      <td>DGN3</td>\n",
       "      <td>3.16</td>\n",
       "      <td>2.64</td>\n",
       "      <td>PRZ2</td>\n",
       "      <td>0</td>\n",
       "      <td>0</td>\n",
       "      <td>0</td>\n",
       "      <td>1</td>\n",
       "      <td>1</td>\n",
       "      <td>OC11</td>\n",
       "      <td>0</td>\n",
       "      <td>0</td>\n",
       "      <td>0</td>\n",
       "      <td>1</td>\n",
       "      <td>0</td>\n",
       "      <td>68</td>\n",
       "      <td>0</td>\n",
       "    </tr>\n",
       "    <tr>\n",
       "      <th>9</th>\n",
       "      <td>DGN3</td>\n",
       "      <td>2.32</td>\n",
       "      <td>2.16</td>\n",
       "      <td>PRZ1</td>\n",
       "      <td>0</td>\n",
       "      <td>0</td>\n",
       "      <td>0</td>\n",
       "      <td>1</td>\n",
       "      <td>0</td>\n",
       "      <td>OC11</td>\n",
       "      <td>0</td>\n",
       "      <td>0</td>\n",
       "      <td>0</td>\n",
       "      <td>1</td>\n",
       "      <td>0</td>\n",
       "      <td>54</td>\n",
       "      <td>0</td>\n",
       "    </tr>\n",
       "  </tbody>\n",
       "</table>\n",
       "</div>"
      ],
      "text/plain": [
       "  Diagnosis   FVC  FEV1 Zubrod_Scale  Pain_before_Surgery  Haemoptysis  \\\n",
       "0      DGN2  2.88  2.16         PRZ1                    0            0   \n",
       "1      DGN3  3.40  1.88         PRZ0                    0            0   \n",
       "2      DGN3  2.76  2.08         PRZ1                    0            0   \n",
       "3      DGN3  3.68  3.04         PRZ0                    0            0   \n",
       "4      DGN3  2.44  0.96         PRZ2                    0            1   \n",
       "5      DGN3  2.48  1.88         PRZ1                    0            0   \n",
       "6      DGN3  4.36  3.28         PRZ1                    0            0   \n",
       "7      DGN2  3.19  2.50         PRZ1                    0            0   \n",
       "8      DGN3  3.16  2.64         PRZ2                    0            0   \n",
       "9      DGN3  2.32  2.16         PRZ1                    0            0   \n",
       "\n",
       "   Dyspnoea  Cough_before_surgery  Weakness_before_surgery TM_Size  Type2_DM  \\\n",
       "0         0                     1                        1    OC14         0   \n",
       "1         0                     0                        0    OC12         0   \n",
       "2         0                     1                        0    OC11         0   \n",
       "3         0                     0                        0    OC11         0   \n",
       "4         0                     1                        1    OC11         0   \n",
       "5         0                     1                        0    OC11         0   \n",
       "6         0                     1                        0    OC12         1   \n",
       "7         0                     1                        0    OC11         0   \n",
       "8         0                     1                        1    OC11         0   \n",
       "9         0                     1                        0    OC11         0   \n",
       "\n",
       "   MI  PAD  Smoking  Asthma  Age  Alive  \n",
       "0   0    0        1       0   60      0  \n",
       "1   0    0        1       0   51      0  \n",
       "2   0    0        1       0   59      0  \n",
       "3   0    0        0       0   54      0  \n",
       "4   0    0        1       0   73      1  \n",
       "5   0    0        0       0   51      0  \n",
       "6   0    0        1       0   59      1  \n",
       "7   0    1        1       0   66      1  \n",
       "8   0    0        1       0   68      0  \n",
       "9   0    0        1       0   54      0  "
      ]
     },
     "execution_count": 5,
     "metadata": {},
     "output_type": "execute_result"
    }
   ],
   "source": [
    "aliveIndex = pd.Categorical(df.Alive).categories       \n",
    "print(aliveIndex)  #get the categories\n",
    "df.Alive = pd.Categorical(df.Alive).codes  #convert from category names to category code.\n",
    "\n",
    "diagnosisIndex = pd.Categorical(df.Diagnosis).categories\n",
    "print(diagnosisIndex)\n",
    "#df.Diagnosis = df.Diagnosis = pd.Categorical(df.Diagnosis).codes  \n",
    "\n",
    "Zubrod_ScaleIndex = pd.Categorical(df.Zubrod_Scale).categories\n",
    "print(Zubrod_ScaleIndex)\n",
    "#df.Zubrod_Scale = df.Zubrod_Scale = pd.Categorical(df.Zubrod_Scale).codes \n",
    "\n",
    "Pain_before_SurgeryIndex = pd.Categorical(df.Pain_before_Surgery).categories\n",
    "print(Pain_before_SurgeryIndex)\n",
    "df.Pain_before_Surgery = df.Pain_before_Surgery = pd.Categorical(df.Pain_before_Surgery).codes \n",
    "\n",
    "HaemoptysisIndex = pd.Categorical(df.Haemoptysis).categories\n",
    "print(HaemoptysisIndex)\n",
    "df.Haemoptysis = df.Haemoptysis = pd.Categorical(df.Haemoptysis).codes \n",
    "\n",
    "DyspnoeaIndex = pd.Categorical(df.Dyspnoea).categories\n",
    "print(DyspnoeaIndex)\n",
    "df.Dyspnoea = df.Dyspnoea = pd.Categorical(df.Dyspnoea).codes \n",
    "\n",
    "Cough_before_surgeryIndex = pd.Categorical(df.Cough_before_surgery).categories\n",
    "print(Cough_before_surgeryIndex)\n",
    "df.Cough_before_surgery = df.Cough_before_surgery = pd.Categorical(df.Cough_before_surgery).codes \n",
    "\n",
    "Weakness_before_surgeryIndex = pd.Categorical(df.Weakness_before_surgery).categories\n",
    "print(Weakness_before_surgeryIndex)\n",
    "df.Weakness_before_surgery = df.Weakness_before_surgery = pd.Categorical(df.Weakness_before_surgery).codes \n",
    "\n",
    "TM_SizeIndex = pd.Categorical(df.TM_Size).categories\n",
    "print(TM_SizeIndex)\n",
    "#df.TM_Size = df.TM_Size = pd.Categorical(df.TM_Size).codes \n",
    "\n",
    "Type2_DMIndex = pd.Categorical(df.Type2_DM).categories\n",
    "print(Type2_DMIndex)\n",
    "df.Type2_DM = df.Type2_DM = pd.Categorical(df.Type2_DM).codes\n",
    "\n",
    "MIIndex = pd.Categorical(df.MI).categories\n",
    "print(MIIndex)\n",
    "df.MI = df.MI = pd.Categorical(df.MI).codes\n",
    "\n",
    "PADIndex = pd.Categorical(df.PAD).categories\n",
    "print(PADIndex)\n",
    "df.PAD = df.PAD = pd.Categorical(df.PAD).codes\n",
    "\n",
    "SmokingIndex = pd.Categorical(df.Smoking).categories\n",
    "print(SmokingIndex)\n",
    "df.Smoking = df.Smoking = pd.Categorical(df.Smoking).codes\n",
    "\n",
    "AsthmaIndex = pd.Categorical(df.Asthma).categories\n",
    "print(AsthmaIndex)\n",
    "df.Asthma = df.Asthma = pd.Categorical(df.Asthma).codes\n",
    "\n",
    "df.head(10)"
   ]
  },
  {
   "cell_type": "markdown",
   "metadata": {},
   "source": [
    "Convert mulitple categories columns into dummy columns."
   ]
  },
  {
   "cell_type": "code",
   "execution_count": 6,
   "metadata": {},
   "outputs": [
    {
     "name": "stdout",
     "output_type": "stream",
     "text": [
      "Index(['FVC', 'FEV1', 'Pain_before_Surgery', 'Haemoptysis', 'Dyspnoea',\n",
      "       'Cough_before_surgery', 'Weakness_before_surgery', 'Type2_DM', 'MI',\n",
      "       'PAD', 'Smoking', 'Asthma', 'Age', 'Alive', 'Diagnosis_DGN1',\n",
      "       'Diagnosis_DGN2', 'Diagnosis_DGN3', 'Diagnosis_DGN4', 'Diagnosis_DGN5',\n",
      "       'Diagnosis_DGN6', 'Diagnosis_DGN8', 'Zubrod_Scale_PRZ0',\n",
      "       'Zubrod_Scale_PRZ1', 'Zubrod_Scale_PRZ2', 'TM_Size_OC11',\n",
      "       'TM_Size_OC12', 'TM_Size_OC13', 'TM_Size_OC14'],\n",
      "      dtype='object')\n"
     ]
    }
   ],
   "source": [
    "df = pd.get_dummies(df)\n",
    "print(df.columns)"
   ]
  },
  {
   "cell_type": "markdown",
   "metadata": {},
   "source": [
    "Now we get the values"
   ]
  },
  {
   "cell_type": "code",
   "execution_count": 15,
   "metadata": {},
   "outputs": [],
   "source": [
    "data = df.values\n",
    "X = data[:,:-1]  \n",
    "Y = data[:,-1] #column -1 is the dependent variable\n"
   ]
  },
  {
   "cell_type": "markdown",
   "metadata": {},
   "source": [
    "# Creating a K-fold"
   ]
  },
  {
   "cell_type": "code",
   "execution_count": 16,
   "metadata": {},
   "outputs": [],
   "source": [
    "from sklearn.model_selection import KFold\n",
    "from sklearn.model_selection import cross_val_score, cross_validate, cross_val_predict\n",
    "from sklearn.metrics import confusion_matrix\n",
    "\n",
    "k = 5\n",
    "random_state = 1"
   ]
  },
  {
   "cell_type": "code",
   "execution_count": 17,
   "metadata": {},
   "outputs": [],
   "source": [
    "kfold = KFold(n_splits=k, shuffle=True, random_state=random_state)"
   ]
  },
  {
   "cell_type": "markdown",
   "metadata": {},
   "source": [
    "# Split the Data into Training and Testing Set"
   ]
  },
  {
   "cell_type": "code",
   "execution_count": 18,
   "metadata": {},
   "outputs": [
    {
     "name": "stdout",
     "output_type": "stream",
     "text": [
      "(352, 27)\n",
      "(118, 27)\n"
     ]
    }
   ],
   "source": [
    "X_train, X_test, y_train, y_test = train_test_split(X, Y, test_size=0.25)\n",
    "print(X_train.shape)\n",
    "print(X_test.shape)"
   ]
  },
  {
   "cell_type": "markdown",
   "metadata": {},
   "source": [
    "# Build and Train Machine Learning Models"
   ]
  },
  {
   "cell_type": "code",
   "execution_count": 19,
   "metadata": {},
   "outputs": [],
   "source": [
    "mlp = MLPClassifier(hidden_layer_sizes=(9), max_iter=70000, alpha=1e-8,\n",
    "                    solver='sgd', verbose=False, tol=1e-10, random_state=1,\n",
    "                    learning_rate_init=.01, warm_start=True)"
   ]
  },
  {
   "cell_type": "markdown",
   "metadata": {},
   "source": [
    "# Cross Validate the Data"
   ]
  },
  {
   "cell_type": "code",
   "execution_count": 20,
   "metadata": {},
   "outputs": [
    {
     "name": "stdout",
     "output_type": "stream",
     "text": [
      "{'fit_time': array([0.37954974, 0.23747563, 0.05019069, 0.27789021, 0.30467081]), 'score_time': array([0.00058842, 0.00039053, 0.00032997, 0.0003891 , 0.00038648]), 'test_score': array([0.96808511, 0.95744681, 0.95744681, 0.95744681, 0.9787234 ]), 'train_score': array([0.96276596, 0.96542553, 0.96542553, 0.96542553, 0.96010638])}\n"
     ]
    }
   ],
   "source": [
    "scores = cross_validate(mlp, X, Y, cv=kfold, scoring='accuracy', return_train_score=True)\n",
    "print(scores)"
   ]
  },
  {
   "cell_type": "markdown",
   "metadata": {},
   "source": [
    "## Use the Fit Method to train the network"
   ]
  },
  {
   "cell_type": "code",
   "execution_count": 21,
   "metadata": {},
   "outputs": [
    {
     "name": "stdout",
     "output_type": "stream",
     "text": [
      "Training set score: 0.960227\n",
      "Testing set score: 0.974576\n"
     ]
    }
   ],
   "source": [
    "mlp.fit(X_train, y_train)\n",
    "print(\"Training set score: %f\" % mlp.score(X_train, y_train))\n",
    "print(\"Testing set score: %f\" % mlp.score(X_test, y_test))"
   ]
  },
  {
   "cell_type": "code",
   "execution_count": 22,
   "metadata": {},
   "outputs": [
    {
     "data": {
      "image/png": "[encoded data removed]",
      "text/plain": [
       "<Figure size 432x288 with 1 Axes>"
      ]
     },
     "metadata": {
      "needs_background": "light"
     },
     "output_type": "display_data"
    }
   ],
   "source": [
    "import matplotlib.pyplot as plt\n",
    "from sklearn.model_selection import learning_curve\n",
    "from sklearn.preprocessing import StandardScaler\n",
    "from sklearn.linear_model import LogisticRegression\n",
    "from sklearn.pipeline import make_pipeline\n",
    "\n",
    "\n",
    "pipe_lr = make_pipeline(StandardScaler(),\n",
    "                        LogisticRegression(penalty='l2', random_state=1, solver='lbfgs', max_iter=5000))\n",
    "\n",
    "train_sizes, train_scores, test_scores =\\\n",
    "                learning_curve(estimator=pipe_lr,\n",
    "                               X=X_train,\n",
    "                               y=y_train,\n",
    "                               train_sizes=np.linspace(0.1, 1.0, 10),\n",
    "                               cv=10,\n",
    "                               scoring='accuracy',\n",
    "                               n_jobs=10)\n",
    "\n",
    "train_mean = np.mean(train_scores, axis=1)\n",
    "train_std = np.std(train_scores, axis=1)\n",
    "test_mean = np.mean(test_scores, axis=1)\n",
    "test_std = np.std(test_scores, axis=1)\n",
    "\n",
    "plt.plot(train_sizes, train_mean,\n",
    "         color='blue', marker='o',\n",
    "         markersize=5, label='training accuracy')\n",
    "\n",
    "plt.fill_between(train_sizes,\n",
    "                 train_mean + train_std,\n",
    "                 train_mean - train_std,\n",
    "                 alpha=0.15, color='blue')\n",
    "\n",
    "plt.plot(train_sizes, test_mean,\n",
    "         color='green', linestyle='--',\n",
    "         marker='s', markersize=5,\n",
    "         label='validation accuracy')\n",
    "\n",
    "plt.fill_between(train_sizes,\n",
    "                 test_mean + test_std,\n",
    "                 test_mean - test_std,\n",
    "                 alpha=0.15, color='green')\n",
    "\n",
    "plt.grid()\n",
    "plt.xlabel('Number of training samples')\n",
    "plt.ylabel('Accuracy')\n",
    "plt.legend(loc='lower right')\n",
    "plt.ylim([0.8, 1.03])\n",
    "plt.tight_layout()\n",
    "plt.show()"
   ]
  },
  {
   "cell_type": "code",
   "execution_count": 23,
   "metadata": {},
   "outputs": [
    {
     "name": "stdout",
     "output_type": "stream",
     "text": [
      "1.0\n",
      "{'svc__C': 0.1, 'svc__kernel': 'linear'}\n",
      "Test accuracy: 1.000\n"
     ]
    }
   ],
   "source": [
    "from sklearn.model_selection import GridSearchCV\n",
    "from sklearn.svm import SVC\n",
    "\n",
    "pipe_svc = make_pipeline(StandardScaler(),\n",
    "                         SVC(random_state=1))\n",
    "\n",
    "param_range = [0.001, 0.01, 0.1, 1.0, 10]\n",
    "\n",
    "param_grid = [{'svc__C': param_range, \n",
    "               'svc__kernel': ['linear']},\n",
    "              {'svc__C': param_range, \n",
    "               'svc__gamma': param_range, \n",
    "               'svc__kernel': ['rbf']}]\n",
    "\n",
    "gs = GridSearchCV(estimator=pipe_svc, \n",
    "                  param_grid=param_grid, \n",
    "                  scoring='accuracy', \n",
    "                  cv=10,\n",
    "                  n_jobs=-1)\n",
    "gs = gs.fit(X_train, y_train)\n",
    "print(gs.best_score_)\n",
    "print(gs.best_params_)\n",
    "clf = gs.best_estimator_\n",
    "clf.fit(X_train, y_train)\n",
    "print('Test accuracy: %.3f' % clf.score(X_test, y_test))"
   ]
  },
  {
   "cell_type": "markdown",
   "metadata": {
    "collapsed": true
   },
   "source": [
    "Using the Logisitic model"
   ]
  },
  {
   "cell_type": "code",
   "execution_count": 24,
   "metadata": {},
   "outputs": [],
   "source": [
    "logistic_model = LogisticRegression(solver='lbfgs', multi_class='auto', tol=1e-10, max_iter = 40000, C=1)"
   ]
  },
  {
   "cell_type": "code",
   "execution_count": 25,
   "metadata": {},
   "outputs": [
    {
     "name": "stdout",
     "output_type": "stream",
     "text": [
      "{'fit_time': array([0.0434382 , 0.03922844, 0.05870223, 0.03076148, 0.04817057]), 'score_time': array([0.00036788, 0.00026774, 0.00032663, 0.00047565, 0.00026655]), 'test_score': array([0.96808511, 0.96808511, 0.95744681, 0.96808511, 0.9787234 ]), 'train_score': array([0.9787234 , 0.97340426, 0.9787234 , 0.9787234 , 0.98670213])}\n"
     ]
    }
   ],
   "source": [
    "scores = cross_validate(logistic_model, X, Y, cv=kfold, scoring='accuracy', return_train_score=True)\n",
    "print(scores)"
   ]
  },
  {
   "cell_type": "code",
   "execution_count": 26,
   "metadata": {},
   "outputs": [
    {
     "name": "stdout",
     "output_type": "stream",
     "text": [
      "[[-0.04273832 -0.07537142 -0.06275095  0.21215646 -0.44134802  0.48564266\n",
      "   0.32805755  0.28524117 -0.01602864 -0.14814926  0.20821654 -0.02488496\n",
      "  -0.06077198  1.05789438 -0.01245867  0.87420366 -0.22040598 -0.46215744\n",
      "  -0.11009167 -0.04194952 -0.01963019  0.09094609 -0.49174445  0.40830856\n",
      "  -2.74925978 -3.04297479 -1.40406261]]\n"
     ]
    }
   ],
   "source": [
    "logistic_model.fit(X_train, y_train)\n",
    "print(logistic_model.coef_)"
   ]
  },
  {
   "cell_type": "code",
   "execution_count": 27,
   "metadata": {},
   "outputs": [],
   "source": [
    "dt = DecisionTreeClassifier()"
   ]
  },
  {
   "cell_type": "code",
   "execution_count": 28,
   "metadata": {},
   "outputs": [
    {
     "name": "stdout",
     "output_type": "stream",
     "text": [
      "Training set score: 1.000000\n",
      "Testing set score: 1.000000\n"
     ]
    }
   ],
   "source": [
    "dt.fit(X_train, y_train)\n",
    "print(\"Training set score: %f\" % dt.score(X_train, y_train))\n",
    "print(\"Testing set score: %f\" % dt.score(X_test, y_test))"
   ]
  },
  {
   "cell_type": "code",
   "execution_count": 32,
   "metadata": {},
   "outputs": [],
   "source": [
    "from matplotlib.colors import ListedColormap\n",
    "import matplotlib.pyplot as plt\n",
    "\n",
    "\n",
    "def plot_decision_regions(X, y, classifier, test_idx=None, resolution=0.02):\n",
    "\n",
    "    # setup marker generator and color map\n",
    "    markers = ('s', 'x', 'o', '^', 'v')\n",
    "    colors = ('red', 'blue', 'lightgreen', 'gray', 'cyan')\n",
    "    cmap = ListedColormap(colors[:len(np.unique(y))])\n",
    "\n",
    "    # plot the decision surface\n",
    "    x1_min, x1_max = X[:, 0].min() - 1, X[:, 0].max() + 1\n",
    "    x2_min, x2_max = X[:, 1].min() - 1, X[:, 1].max() + 1\n",
    "    xx1, xx2 = np.meshgrid(np.arange(x1_min, x1_max, resolution),\n",
    "                           np.arange(x2_min, x2_max, resolution))\n",
    "    Z = classifier.predict(np.array([xx1.ravel(), xx2.ravel()]).T)\n",
    "    Z = Z.reshape(xx1.shape)\n",
    "    plt.contourf(xx1, xx2, Z, alpha=0.3, cmap=cmap)\n",
    "    plt.xlim(xx1.min(), xx1.max())\n",
    "    plt.ylim(xx2.min(), xx2.max())\n",
    "\n",
    "    for idx, cl in enumerate(np.unique(y)):\n",
    "        plt.scatter(x=X[y == cl, 0], \n",
    "                    y=X[y == cl, 1],\n",
    "                    alpha=0.8, \n",
    "                    c=colors[idx],\n",
    "                    marker=markers[idx], \n",
    "                    label=cl, \n",
    "                    edgecolor='black')\n",
    "\n",
    "    # highlight test samples\n",
    "    if test_idx:\n",
    "        # plot all samples\n",
    "        X_test, y_test = X[test_idx, :], y[test_idx]\n",
    "\n",
    "        plt.scatter(X_test[:, 0],\n",
    "                    X_test[:, 1],\n",
    "                    c='',\n",
    "                    edgecolor='black',\n",
    "                    alpha=1.0,\n",
    "                    linewidth=1,\n",
    "                    marker='o',\n",
    "                    s=100, \n",
    "                    label='test set')"
   ]
  },
  {
   "cell_type": "code",
   "execution_count": 33,
   "metadata": {},
   "outputs": [
    {
     "data": {
      "image/png": "[encoded data removed]",
      "text/plain": [
       "<Figure size 432x288 with 1 Axes>"
      ]
     },
     "metadata": {
      "needs_background": "light"
     },
     "output_type": "display_data"
    }
   ],
   "source": [
    "import matplotlib.pyplot as plt\n",
    "import numpy as np\n",
    "\n",
    "\n",
    "def gini(p):\n",
    "    return p * (1 - p) + (1 - p) * (1 - (1 - p))\n",
    "\n",
    "\n",
    "def entropy(p):\n",
    "    return - p * np.log2(p) - (1 - p) * np.log2((1 - p))\n",
    "\n",
    "\n",
    "def error(p):\n",
    "    return 1 - np.max([p, 1 - p])\n",
    "\n",
    "x = np.arange(0.0, 1.0, 0.01)\n",
    "\n",
    "ent = [entropy(p) if p != 0 else None for p in x]\n",
    "sc_ent = [e * 0.5 if e else None for e in ent]\n",
    "err = [error(i) for i in x]\n",
    "\n",
    "fig = plt.figure()\n",
    "ax = plt.subplot(111)\n",
    "for i, lab, ls, c, in zip([ent, sc_ent, gini(x), err], \n",
    "                          ['Entropy', 'Entropy (scaled)', \n",
    "                           'Gini Impurity', 'Misclassification Error'],\n",
    "                          ['-', '-', '--', '-.'],\n",
    "                          ['black', 'lightgray', 'red', 'green', 'cyan']):\n",
    "    line = ax.plot(x, i, label=lab, linestyle=ls, lw=2, color=c)\n",
    "\n",
    "ax.legend(loc='upper center', bbox_to_anchor=(0.5, 1.15),\n",
    "          ncol=5, fancybox=True, shadow=False)\n",
    "\n",
    "ax.axhline(y=0.5, linewidth=1, color='k', linestyle='--')\n",
    "ax.axhline(y=1.0, linewidth=1, color='k', linestyle='--')\n",
    "plt.ylim([0, 1.1])\n",
    "plt.xlabel('p(i=1)')\n",
    "plt.ylabel('Impurity Index')\n",
    "#plt.savefig('images/03_19.png', dpi=300, bbox_inches='tight')\n",
    "plt.show()"
   ]
  },
  {
   "cell_type": "code",
   "execution_count": 36,
   "metadata": {},
   "outputs": [
    {
     "name": "stdout",
     "output_type": "stream",
     "text": [
      "1.0\n",
      "{'svc__C': 0.1, 'svc__kernel': 'linear'}\n"
     ]
    }
   ],
   "source": [
    "from sklearn.model_selection import GridSearchCV\n",
    "from sklearn.svm import SVC\n",
    "\n",
    "pipe_svc = make_pipeline(StandardScaler(),\n",
    "                         SVC(random_state=1))\n",
    "\n",
    "param_range = [0.0001, 0.001, 0.01, 0.1, 1.0, 10.0, 100.0, 1000.0]\n",
    "\n",
    "param_grid = [{'svc__C': param_range, \n",
    "               'svc__kernel': ['linear']},\n",
    "              {'svc__C': param_range, \n",
    "               'svc__gamma': param_range, \n",
    "               'svc__kernel': ['rbf']}]\n",
    "\n",
    "gs = GridSearchCV(estimator=pipe_svc, \n",
    "                  param_grid=param_grid, \n",
    "                  scoring='accuracy', \n",
    "                  cv=10,\n",
    "                  n_jobs=-1)\n",
    "gs = gs.fit(X_train, y_train)\n",
    "print(gs.best_score_)\n",
    "print(gs.best_params_)"
   ]
  },
  {
   "cell_type": "code",
   "execution_count": null,
   "metadata": {},
   "outputs": [],
   "source": []
  },
  {
   "cell_type": "code",
   "execution_count": null,
   "metadata": {},
   "outputs": [],
   "source": []
  }
 ],
 "metadata": {
  "kernelspec": {
   "display_name": "Python 3",
   "language": "python",
   "name": "python3"
  },
  "language_info": {
   "codemirror_mode": {
    "name": "ipython",
    "version": 3
   },
   "file_extension": ".py",
   "mimetype": "text/x-python",
   "name": "python",
   "nbconvert_exporter": "python",
   "pygments_lexer": "ipython3",
   "version": "3.7.6"
  }
 },
 "nbformat": 4,
 "nbformat_minor": 2
}
